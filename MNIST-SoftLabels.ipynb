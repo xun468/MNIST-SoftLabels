{
 "cells": [
  {
   "cell_type": "code",
   "execution_count": 411,
   "metadata": {},
   "outputs": [],
   "source": [
    "from numpy.random import seed\n",
    "seed(12)\n",
    "\n",
    "import tensorflow as tf\n",
    "tf.random.set_seed(12)\n",
    "\n",
    "from tensorflow import keras\n",
    "from tensorflow.keras import layers\n",
    "from tensorflow.keras.utils import to_categorical\n",
    "from tensorflow.keras.datasets import mnist\n",
    "import numpy as np \n",
    "from statistics import mean, stdev"
   ]
  },
  {
   "cell_type": "code",
   "execution_count": 132,
   "metadata": {},
   "outputs": [],
   "source": [
    "def get_data():\n",
    "    (train_xf, train_yf), (test_xf, test_yf) = mnist.load_data()\n",
    "    \n",
    "    train_x = []\n",
    "    train_y = []\n",
    "    test_x = []\n",
    "    test_y = []\n",
    "    \n",
    "    removed = [] \n",
    "    \n",
    "    for i in range(10):\n",
    "        train_idx = np.where(train_yf == i)[0][0]\n",
    "        train_x.append(train_xf[train_idx])\n",
    "        train_y.append(train_yf[train_idx])\n",
    "        removed.append(train_idx)\n",
    "        \n",
    "        test_idx = np.where(test_yf == i)[0][0:100]\n",
    "        test_x.extend(test_xf[test_idx])\n",
    "        test_y.extend(test_yf[test_idx])\n",
    "            \n",
    "    train_x = np.array(train_x, dtype='float32').reshape((len(train_x),28,28,1))\n",
    "    test_x = np.array(test_x, dtype='float32').reshape((len(test_x),28,28,1))\n",
    "    train_x = train_x/255.0\n",
    "    test_x = test_x/255.0\n",
    "    \n",
    "    train_y = to_categorical(train_y)\n",
    "    test_y = to_categorical(test_y)    \n",
    "    \n",
    "    unlabeled = np.delete(train_xf, removed, axis=0)\n",
    "    unlabeled = unlabeled.reshape((unlabeled.shape[0],28,28,1))\n",
    "    unlabeled = unlabeled/255.0\n",
    "    \n",
    "    return train_x, train_y, test_x, test_y, unlabeled\n",
    "   \n",
    "    \n",
    "def get_model(): \n",
    "    model = keras.Sequential()\n",
    "    model.add(layers.Conv2D(24,(3,3),activation='relu',input_shape=(28,28,1)))\n",
    "    model.add(layers.MaxPooling2D((2,2)))\n",
    "    model.add(layers.Flatten())\n",
    "    \n",
    "    model.add(layers.Dense(units=50, activation='relu'))\n",
    "    model.add(layers.Dense(units=10, activation = 'softmax'))\n",
    "    \n",
    "    opt = keras.optimizers.Adam(learning_rate=0.01)\n",
    "    model.compile(optimizer=opt, loss='categorical_crossentropy', metrics=['accuracy'])\n",
    "    \n",
    "    return model    "
   ]
  },
  {
   "cell_type": "code",
   "execution_count": 133,
   "metadata": {},
   "outputs": [
    {
     "name": "stdout",
     "output_type": "stream",
     "text": [
      "(10, 28, 28, 1)\n",
      "(10, 10)\n",
      "(1000, 28, 28, 1)\n",
      "(1000, 10)\n"
     ]
    }
   ],
   "source": [
    "train_x, train_y, test_x, test_y, unlabeled = get_data()\n",
    "print(train_x.shape)\n",
    "print(train_y.shape)\n",
    "print(test_x.shape)\n",
    "print(test_y.shape)"
   ]
  },
  {
   "cell_type": "code",
   "execution_count": 330,
   "metadata": {},
   "outputs": [
    {
     "name": "stdout",
     "output_type": "stream",
     "text": [
      "Epoch 1/10\n",
      "10/10 [==============================] - 0s 1ms/step - loss: 3.8913 - accuracy: 0.0000e+00\n",
      "Epoch 2/10\n",
      "10/10 [==============================] - 0s 1ms/step - loss: 2.2711 - accuracy: 0.3000\n",
      "Epoch 3/10\n",
      "10/10 [==============================] - 0s 1ms/step - loss: 2.2351 - accuracy: 0.4000\n",
      "Epoch 4/10\n",
      "10/10 [==============================] - 0s 1ms/step - loss: 1.9973 - accuracy: 0.6000\n",
      "Epoch 5/10\n",
      "10/10 [==============================] - 0s 1ms/step - loss: 1.2448 - accuracy: 0.7000\n",
      "Epoch 6/10\n",
      "10/10 [==============================] - 0s 1ms/step - loss: 0.4801 - accuracy: 1.0000\n",
      "Epoch 7/10\n",
      "10/10 [==============================] - 0s 1ms/step - loss: 0.0726 - accuracy: 1.0000\n",
      "Epoch 8/10\n",
      "10/10 [==============================] - 0s 1ms/step - loss: 0.0126 - accuracy: 1.0000\n",
      "Epoch 9/10\n",
      "10/10 [==============================] - 0s 1ms/step - loss: 0.0026 - accuracy: 1.0000\n",
      "Epoch 10/10\n",
      "10/10 [==============================] - 0s 1ms/step - loss: 0.0012 - accuracy: 1.0000\n",
      "32/32 [==============================] - 0s 1ms/step - loss: 2.6479 - accuracy: 0.3860\n",
      "Baseline Loss: 2.6478679180145264\n",
      "Baseline Accuracy: 0.38600000739097595\n"
     ]
    }
   ],
   "source": [
    "model_baseline = get_model()\n",
    "\n",
    "base_log = model_baseline.fit(train_x, train_y,\n",
    "                  batch_size = 1,\n",
    "                  epochs = 10, \n",
    "                  shuffle=True,                \n",
    "                  verbose = 1)\n",
    "\n",
    "base_score = model_baseline.evaluate(test_x,test_y)\n",
    "print(\"Baseline Loss: \" + str(base_score[0]))\n",
    "print(\"Baseline Accuracy: \" + str(base_score[1]))"
   ]
  },
  {
   "cell_type": "code",
   "execution_count": 417,
   "metadata": {},
   "outputs": [
    {
     "name": "stdout",
     "output_type": "stream",
     "text": [
      "[0.34599998593330383, 0.33000001311302185, 0.25699999928474426, 0.3840000033378601, 0.42800000309944153, 0.3190000057220459, 0.3709999918937683, 0.34299999475479126, 0.27399998903274536, 0.4189999997615814]\n",
      "Average accuracy over 10 runs: 0.3470999985933304 Std: 0.05598501918894285\n"
     ]
    }
   ],
   "source": [
    "stats = [] \n",
    "\n",
    "for i in range(10):\n",
    "    model = get_model()\n",
    "    model.fit(train_x, train_y,\n",
    "              batch_size = 1,\n",
    "              epochs = 10, \n",
    "              shuffle=True,                \n",
    "              verbose = 0)\n",
    "    stats.append(model.evaluate(test_x,test_y, verbose=0)[1])\n",
    "\n",
    "print(stats)\n",
    "print(\"Average accuracy over 10 runs: \" + str(mean(stats)) + \" Std: \" + str(stdev(stats))) "
   ]
  },
  {
   "cell_type": "code",
   "execution_count": 451,
   "metadata": {},
   "outputs": [],
   "source": [
    "def train_semi_supervised(model, train_x, train_y, unlabeled, n_epochs, warmup, n_labeled, n_soft, verbose=1):\n",
    "    n_batches = int(train_x.shape[0]/n_labeled)\n",
    "\n",
    "    for i in range(n_epochs): \n",
    "        idx_labeled = np.random.permutation(train_x.shape[0])\n",
    "        idx_unlabeled = np.random.permutation(unlabeled.shape[0])\n",
    "        loss_epoch = []\n",
    "        \n",
    "        soft_x = []\n",
    "        soft_y = []\n",
    "        if i >= warmup:\n",
    "            idx_soft = idx_unlabeled[0:n_batches*n_soft]\n",
    "            soft_x = unlabeled[idx_soft]\n",
    "            soft_y = model.predict(soft_x)\n",
    "            \n",
    "        u_start = 0\n",
    "        for j in range(0, train_x.shape[0], n_labeled):\n",
    "            idx_lbatch = idx_labeled[j:j+n_labeled]\n",
    "            batch_x = train_x[idx_lbatch]\n",
    "            batch_y = train_y[idx_lbatch]\n",
    "            \n",
    "            \n",
    "            if i >= warmup:\n",
    "                batch_x = np.vstack((batch_x,soft_x[u_start:u_start+n_soft]))\n",
    "                batch_y = np.vstack((batch_y,soft_y[u_start:u_start+n_soft]))\n",
    "            \n",
    "                u_start+=n_soft\n",
    "                \n",
    "            \n",
    "            loss_epoch.append(model.train_on_batch(batch_x,batch_y)[0])\n",
    "        \n",
    "        if verbose:\n",
    "            if i >= warmup:\n",
    "                print(\"Epoch \" + str(i+1) + \" loss = \" + str (mean(loss_epoch)) + \" num soft labels = \" + str(soft_y.shape[0]))\n",
    "            else:\n",
    "                print(\"Epoch \" + str(i+1) + \" loss = \" + str (mean(loss_epoch)))\n",
    "    \n",
    "    return model\n",
    "            "
   ]
  },
  {
   "cell_type": "code",
   "execution_count": 453,
   "metadata": {},
   "outputs": [
    {
     "name": "stdout",
     "output_type": "stream",
     "text": [
      "Epoch 1 loss = 3.49590425491333\n",
      "Epoch 2 loss = 2.0847004890441894\n",
      "Epoch 3 loss = 2.0914288997650146\n",
      "Epoch 4 loss = 1.6732263803482055\n",
      "Epoch 5 loss = 0.8123651742935181\n",
      "Epoch 6 loss = 1.0073785543441773 num soft labels = 15\n",
      "Epoch 7 loss = 0.9152100086212158 num soft labels = 15\n",
      "Epoch 8 loss = 0.7395816922187806 num soft labels = 15\n",
      "Epoch 9 loss = 0.5468575894832611 num soft labels = 15\n",
      "Epoch 10 loss = 0.5464791834354401 num soft labels = 15\n",
      "32/32 [==============================] - 0s 1ms/step - loss: 2.3923 - accuracy: 0.4020\n",
      "Loss: 2.392266035079956\n",
      "Accuracy: 0.4020000100135803\n"
     ]
    }
   ],
   "source": [
    "model_ratio = get_model()\n",
    "model_ratio = train_semi_supervised(model_ratio, train_x, train_y, unlabeled, n_epochs=10, warmup=5, n_labeled=2, n_soft=3)\n",
    "\n",
    "score = model_ratio.evaluate(test_x,test_y)\n",
    "print(\"Loss: \" + str(score[0]))\n",
    "print(\"Accuracy: \" + str(score[1]))"
   ]
  },
  {
   "cell_type": "code",
   "execution_count": 454,
   "metadata": {},
   "outputs": [
    {
     "name": "stdout",
     "output_type": "stream",
     "text": [
      "[0.42100000381469727, 0.42100000381469727, 0.3179999887943268, 0.35100001096725464, 0.367000013589859, 0.32899999618530273, 0.4099999964237213, 0.3889999985694885, 0.3790000081062317, 0.3190000057220459]\n",
      "Average accuracy over 10 runs: 0.3704000025987625 Std: 0.04027461422549332\n"
     ]
    }
   ],
   "source": [
    "stats = [] \n",
    "\n",
    "for i in range(10):\n",
    "    model = get_model()\n",
    "    model = train_semi_supervised(model, train_x, train_y, unlabeled, n_epochs=10, warmup=5, n_labeled=2, n_soft=3, verbose=0)\n",
    "    stats.append(model.evaluate(test_x,test_y, verbose=0)[1])\n",
    "\n",
    "print(stats)\n",
    "print(\"Average accuracy over 10 runs: \" + str(mean(stats)) + \" Std: \" + str(stdev(stats))) "
   ]
  },
  {
   "cell_type": "code",
   "execution_count": 455,
   "metadata": {},
   "outputs": [],
   "source": [
    "def train_semi_supervised_with_threshold(model, train_x, train_y, unlabeled, n_epochs, warmup, n_labeled, max_soft, thresh = 0.7, verbose = 1):\n",
    "    n_batches = int(train_x.shape[0]/n_labeled) \n",
    "         \n",
    "    for i in range(n_epochs): \n",
    "        idx_labeled = np.random.permutation(train_x.shape[0])\n",
    "        idx_unlabeled = np.random.permutation(unlabeled.shape[0])\n",
    "        loss_epoch = []\n",
    "        \n",
    "        soft_x = []\n",
    "        soft_y = []\n",
    "        n_soft = 0\n",
    "        if i >= warmup:\n",
    "            idx_soft = idx_unlabeled[0:n_batches*max_soft]\n",
    "            soft_x = unlabeled[idx_soft]\n",
    "            soft_y = model.predict(soft_x)\n",
    "\n",
    "            for j in range(soft_y.shape[0]-1,0,-1):\n",
    "                max_idx = np.argmax(soft_y[j])\n",
    "                if soft_y[j][max_idx] < thresh: \n",
    "                    soft_x = np.delete(soft_x, j, axis=0)\n",
    "                    soft_y = np.delete(soft_y, j, axis=0)\n",
    "                    \n",
    "            n_soft = int(soft_y.shape[0]/n_batches)                \n",
    "                    \n",
    "            \n",
    "        u_start = 0\n",
    "        for j in range(0, train_x.shape[0], n_labeled):\n",
    "            idx_lbatch = idx_labeled[j:j+n_labeled]\n",
    "            batch_x = train_x[idx_lbatch]\n",
    "            batch_y = train_y[idx_lbatch]\n",
    "            \n",
    "            \n",
    "            if i >= warmup and soft_y.shape[0] > 0:\n",
    "                batch_x = np.vstack((batch_x,soft_x[u_start:u_start+n_soft]))\n",
    "                batch_y = np.vstack((batch_y,soft_y[u_start:u_start+n_soft]))\n",
    "                u_start+=n_soft\n",
    "                \n",
    "            \n",
    "            loss_epoch.append(model.train_on_batch(batch_x,batch_y)[0])\n",
    "        \n",
    "        if verbose:\n",
    "            if i >= warmup:\n",
    "                print(\"Epoch \" + str(i+1) + \" loss = \" + str (mean(loss_epoch)) + \" num soft labels = \" + str(soft_y.shape[0]))\n",
    "            else:\n",
    "                print(\"Epoch \" + str(i+1) + \" loss = \" + str (mean(loss_epoch)))\n",
    "    \n",
    "    return model"
   ]
  },
  {
   "cell_type": "code",
   "execution_count": 456,
   "metadata": {},
   "outputs": [
    {
     "name": "stdout",
     "output_type": "stream",
     "text": [
      "Epoch 1 loss = 3.0067036628723143\n",
      "Epoch 2 loss = 2.135382604598999\n",
      "Epoch 3 loss = 1.8965614080429076\n",
      "Epoch 4 loss = 1.245452618598938\n",
      "Epoch 5 loss = 0.42315216809511186\n",
      "Epoch 6 loss = 0.2195932887494564 num soft labels = 6\n",
      "Epoch 7 loss = 0.284084795974195 num soft labels = 9\n",
      "Epoch 8 loss = 0.38459505438804625 num soft labels = 16\n",
      "Epoch 9 loss = 0.17222611010074615 num soft labels = 11\n",
      "Epoch 10 loss = 0.29417295157909396 num soft labels = 18\n",
      "Epoch 11 loss = 0.31696334332227705 num soft labels = 19\n",
      "Epoch 12 loss = 0.22187330648303033 num soft labels = 14\n",
      "Epoch 13 loss = 0.23231619000434875 num soft labels = 18\n",
      "Epoch 14 loss = 0.2951685391366482 num soft labels = 21\n",
      "Epoch 15 loss = 0.2730750322341919 num soft labels = 18\n",
      "32/32 [==============================] - 0s 2ms/step - loss: 2.9644 - accuracy: 0.3910\n"
     ]
    }
   ],
   "source": [
    "model_thresh = get_model()\n",
    "model_thresh = train_semi_supervised_with_threshold(model_thresh, train_x, train_y, unlabeled, \n",
    "                                                    n_epochs=15, warmup=5, n_labeled=2, max_soft=5)\n",
    "\n",
    "thresh_score = model_thresh.evaluate(test_x,test_y)"
   ]
  },
  {
   "cell_type": "code",
   "execution_count": 458,
   "metadata": {},
   "outputs": [
    {
     "name": "stdout",
     "output_type": "stream",
     "text": [
      "[0.28700000047683716, 0.39100000262260437, 0.21899999678134918, 0.22200000286102295, 0.42399999499320984, 0.3490000069141388, 0.31200000643730164, 0.4449999928474426, 0.296999990940094, 0.3199999928474426]\n",
      "Average accuracy over 10 runs: 0.3265999987721443 Std: 0.07700966640454228\n"
     ]
    }
   ],
   "source": [
    "stats = [] \n",
    "\n",
    "for i in range(10):\n",
    "    model = get_model()\n",
    "    model = train_semi_supervised_with_threshold(model, train_x, train_y, unlabeled, \n",
    "                                                 n_epochs=15, warmup=5, n_labeled=2, max_soft=5, thresh = 0.7, verbose=0)\n",
    "    stats.append(model.evaluate(test_x,test_y, verbose=0)[1])\n",
    "\n",
    "print(stats)\n",
    "print(\"Average accuracy over 10 runs: \" + str(mean(stats)) + \" Std: \" + str(stdev(stats))) "
   ]
  },
  {
   "cell_type": "code",
   "execution_count": 230,
   "metadata": {},
   "outputs": [],
   "source": [
    "def get_prediction(model, image):\n",
    "    scores = model.predict(image)\n",
    "    return np.argmax(scores)"
   ]
  },
  {
   "cell_type": "code",
   "execution_count": 472,
   "metadata": {},
   "outputs": [
    {
     "name": "stdout",
     "output_type": "stream",
     "text": [
      "1 2 2\n"
     ]
    },
    {
     "data": {
      "image/png": "[encoded data removed]",
      "text/plain": [
       "<Figure size 432x288 with 1 Axes>"
      ]
     },
     "metadata": {
      "needs_background": "light"
     },
     "output_type": "display_data"
    }
   ],
   "source": [
    "%matplotlib inline\n",
    "import matplotlib.pyplot as plt\n",
    "\n",
    "image = test_x[246]\n",
    "pred_base = get_prediction(baseline_model,np.expand_dims(image,axis=0))\n",
    "pred_ratio = get_prediction(model_ratio,np.expand_dims(image,axis=0))\n",
    "pred_thresh = get_prediction(model_thresh,np.expand_dims(image,axis=0))\n",
    "\n",
    "plt.imshow(image)\n",
    "print(str(pred_base) + \" \" + str(pred_ratio) + \" \" + str(pred_thresh))"
   ]
  },
  {
   "cell_type": "code",
   "execution_count": null,
   "metadata": {},
   "outputs": [],
   "source": []
  }
 ],
 "metadata": {
  "kernelspec": {
   "display_name": "Python 3",
   "language": "python",
   "name": "python3"
  },
  "language_info": {
   "codemirror_mode": {
    "name": "ipython",
    "version": 3
   },
   "file_extension": ".py",
   "mimetype": "text/x-python",
   "name": "python",
   "nbconvert_exporter": "python",
   "pygments_lexer": "ipython3",
   "version": "3.6.12"
  }
 },
 "nbformat": 4,
 "nbformat_minor": 4
}
